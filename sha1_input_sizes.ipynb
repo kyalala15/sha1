{
 "cells": [
  {
   "cell_type": "code",
   "execution_count": 3,
   "id": "69bd2ea1",
   "metadata": {},
   "outputs": [
    {
     "name": "stdout",
     "output_type": "stream",
     "text": [
      "aaf4c61ddcc5e8a2dabede0f3b482cd9aea9434d\n",
      "Expected output: aaf4c61ddcc5e8a2dabede0f3b482cd9aea9434d\n",
      "Hardware stream time taken with input size of 5: 0.001847982406616211 seconds\n"
     ]
    }
   ],
   "source": [
    "from pynq import Overlay\n",
    "from pynq import allocate\n",
    "import numpy as np\n",
    "import time\n",
    "\n",
    "ol = Overlay(\"sha1_5/sha1_5.bit\")\n",
    "dma = ol.axi_dma\n",
    "dma_send = ol.axi_dma.sendchannel\n",
    "dma_recv = ol.axi_dma.recvchannel\n",
    "hls_ip = ol.axi_dma\n",
    "\n",
    "CONTROL_REGISTER = 0x00\n",
    "hls_ip.write(CONTROL_REGISTER, 0x01)\n",
    "\n",
    "example_lst = [ord(\"h\"), ord(\"e\"), ord(\"l\"), ord(\"l\"), ord(\"o\")]\n",
    "hw_stream_output_lst = []\n",
    "data_size = 100\n",
    "input_buffer = allocate(shape=(data_size,), dtype=np.uint32)\n",
    "for i in range(0,5):\n",
    "    input_buffer[i] = example_lst[i]\n",
    "output_buffer = allocate(shape=(data_size,), dtype=np.uint32)\n",
    "current_time_hw_stream = time.time()\n",
    "dma_send.transfer(input_buffer)\n",
    "dma_recv.transfer(output_buffer)\n",
    "end_time_hw_stream = time.time()\n",
    "hw_stream_output = \"\"\n",
    "for i in range(5):\n",
    "    hw_stream_output_lst.append(format(output_buffer[i], '02x'))\n",
    "    hw_stream_output += format(output_buffer[i], '02x')\n",
    "    \n",
    "del input_buffer, output_buffer\n",
    "print(hw_stream_output)\n",
    "print(\"Expected output: aaf4c61ddcc5e8a2dabede0f3b482cd9aea9434d\")\n",
    "print(\"Hardware stream time taken with input size of 5:\", end_time_hw_stream - current_time_hw_stream, \"seconds\")"
   ]
  },
  {
   "cell_type": "code",
   "execution_count": 5,
   "id": "2e8a74af",
   "metadata": {},
   "outputs": [
    {
     "name": "stdout",
     "output_type": "stream",
     "text": [
      "Software output: aaf4c61ddcc5e8a2dabede0f3b482cd9aea9434d\n",
      "Software time taken with input size of 5: 0.0032939910888671875 seconds\n"
     ]
    }
   ],
   "source": [
    "import struct\n",
    "import hashlib\n",
    "import time\n",
    "\n",
    "def sha1(input_message):\n",
    "   \"\"\"\n",
    "   Returns a hash produced based on the SHA-1\n",
    "   :param input_message: string input\n",
    "   :return: hexadecimal string of length 40 of 32 hexadecimal digits with total length of 160 bits\n",
    "   \"\"\"\n",
    "\n",
    "   def left_rotate(n, b):\n",
    "       return ((n << b) | (n >> (32 - b))) & 0xFFFFFFFF\n",
    "\n",
    "   h0 = 0x67452301\n",
    "   h1 = 0xEFCDAB89\n",
    "   h2 = 0x98BADCFE\n",
    "   h3 = 0x10325476\n",
    "   h4 = 0xC3D2E1F0\n",
    "\n",
    "   encoded_message = input_message.encode('UTF-8')\n",
    "   message_length = len(encoded_message)\n",
    "   encoded_message += b'\\x80'\n",
    "   while len(encoded_message) % 64 != 56:\n",
    "       encoded_message += b'\\x00'\n",
    "   encoded_message += struct.pack('>Q', message_length * 8)\n",
    "\n",
    "   # Break the message up into 512-bit chunks\n",
    "   for i in range(0, len(encoded_message), 64):\n",
    "       chunk = encoded_message[i:i+64]\n",
    "       w = [0] * 80\n",
    "       # Break each chunk into 16 32-bit big-endian words\n",
    "       for j in range(16):\n",
    "           w[j] = struct.unpack('>I', chunk[j*4:j*4+4])[0]\n",
    "       # Extend the 16 32-bit words into 80 32-bit words\n",
    "       for j in range(16, 80):\n",
    "           w[j] = left_rotate(w[j-3] ^ w[j-8] ^ w[j-14] ^ w[j-16], 1)\n",
    "\n",
    "       # Initialize hash values for this chunk\n",
    "       a = h0\n",
    "       b = h1\n",
    "       c = h2\n",
    "       d = h3\n",
    "       e = h4\n",
    "\n",
    "       for j in range(80):\n",
    "           if j < 20:\n",
    "               f = (b & c) | ((~b) & d)\n",
    "               k = 0x5A827999\n",
    "           elif j < 40:\n",
    "               f = b ^ c ^ d\n",
    "               k = 0x6ED9EBA1\n",
    "           elif j < 60:\n",
    "               f = (b & c) | (b & d) | (c & d)\n",
    "               k = 0x8F1BBCDC\n",
    "           else:\n",
    "               f = b ^ c ^ d\n",
    "               k = 0xCA62C1D6\n",
    "\n",
    "           temp = left_rotate(a, 5) + f + e + k + w[j] & 0xFFFFFFFF\n",
    "           e = d\n",
    "           d = c\n",
    "           c = left_rotate(b, 30)\n",
    "           b = a\n",
    "           a = temp\n",
    "\n",
    "       # Add current chunk's hash to the result\n",
    "       h0 = (h0 + a) & 0xFFFFFFFF\n",
    "       h1 = (h1 + b) & 0xFFFFFFFF\n",
    "       h2 = (h2 + c) & 0xFFFFFFFF\n",
    "       h3 = (h3 + d) & 0xFFFFFFFF\n",
    "       h4 = (h4 + e) & 0xFFFFFFFF\n",
    "\n",
    "   # return hash value\n",
    "   return '%08x%08x%08x%08x%08x' % (h0, h1, h2, h3, h4)\n",
    "\n",
    "# test output\n",
    "input_string = 'hello'\n",
    "current_time = time.time()\n",
    "print(\"Software output:\", sha1(input_string))\n",
    "end_time = time.time()\n",
    "print(\"Software time taken with input size of 5:\", end_time - current_time, \"seconds\")"
   ]
  },
  {
   "cell_type": "code",
   "execution_count": 37,
   "id": "1759197c",
   "metadata": {},
   "outputs": [
    {
     "name": "stdout",
     "output_type": "stream",
     "text": [
      "b156215b189103c3d268f61299a854cd0b31e70\n",
      "Expected output: b156215b189103c3d268f61299a854cd0b31e70\n",
      "Hardware stream time taken with input size of 10: 0.0018630027770996094 seconds\n"
     ]
    }
   ],
   "source": [
    "ol = Overlay(\"sha1_10/sha1_10.bit\")\n",
    "dma = ol.axi_dma\n",
    "dma_send = ol.axi_dma.sendchannel\n",
    "dma_recv = ol.axi_dma.recvchannel\n",
    "hls_ip = ol.axi_dma\n",
    "\n",
    "CONTROL_REGISTER = 0x00\n",
    "hls_ip.write(CONTROL_REGISTER, 0x01)\n",
    "\n",
    "example_lst = [ord(\"h\"), ord(\"e\"), ord(\"l\"), ord(\"l\"), ord(\"o\"), ord(\"h\"), ord(\"e\"), ord(\"l\"), ord(\"l\"), ord(\"o\")]\n",
    "hw_stream_output_lst = []\n",
    "data_size = 100\n",
    "input_buffer = allocate(shape=(data_size,), dtype=np.uint32)\n",
    "for i in range(0,10):\n",
    "    input_buffer[i] = example_lst[i]\n",
    "output_buffer = allocate(shape=(data_size,), dtype=np.uint32)\n",
    "current_time_hw_stream = time.time()\n",
    "dma_send.transfer(input_buffer)\n",
    "dma_recv.transfer(output_buffer)\n",
    "end_time_hw_stream = time.time()\n",
    "hw_stream_output = \"\"\n",
    "for i in range(5):\n",
    "    hw_stream_output_lst.append(format(output_buffer[i], '02x'))\n",
    "    hw_stream_output += format(output_buffer[i], '02x')\n",
    "    \n",
    "del input_buffer, output_buffer\n",
    "print(hw_stream_output)\n",
    "print(\"Expected output: b156215b189103c3d268f61299a854cd0b31e70\")\n",
    "print(\"Hardware stream time taken with input size of 10:\", end_time_hw_stream - current_time_hw_stream, \"seconds\")"
   ]
  },
  {
   "cell_type": "code",
   "execution_count": 10,
   "id": "6590700e",
   "metadata": {},
   "outputs": [
    {
     "name": "stdout",
     "output_type": "stream",
     "text": [
      "Software output: 0b156215b189103c3d268f61299a854cd0b31e70\n",
      "Software time taken with input size of 10: 0.0036308765411376953 seconds\n"
     ]
    }
   ],
   "source": [
    "input_string = 'hellohello'\n",
    "current_time = time.time()\n",
    "print(\"Software output:\", sha1(input_string))\n",
    "end_time = time.time()\n",
    "print(\"Software time taken with input size of 10:\", end_time - current_time, \"seconds\")"
   ]
  },
  {
   "cell_type": "code",
   "execution_count": 19,
   "id": "e0123b9e",
   "metadata": {},
   "outputs": [
    {
     "name": "stdout",
     "output_type": "stream",
     "text": [
      "8f3a9cbd5cb154b72b831afc87b4d4965e78afe3\n",
      "Expected output: 8f3a9cbd5cb154b72b831afc87b4d4965e78afe3\n",
      "Hardware stream time taken with input size of 20: 0.0019466876983642578 seconds\n"
     ]
    }
   ],
   "source": [
    "ol = Overlay(\"sha1_20/sha1_20.bit\")\n",
    "dma = ol.axi_dma\n",
    "dma_send = ol.axi_dma.sendchannel\n",
    "dma_recv = ol.axi_dma.recvchannel\n",
    "hls_ip = ol.axi_dma\n",
    "\n",
    "CONTROL_REGISTER = 0x00\n",
    "hls_ip.write(CONTROL_REGISTER, 0x01)\n",
    "\n",
    "example_lst = [ord(\"h\"), ord(\"e\"), ord(\"l\"), ord(\"l\"), ord(\"o\"), ord(\"h\"), ord(\"e\"), ord(\"l\"), ord(\"l\"), ord(\"o\"), ord(\"h\"), ord(\"e\"), ord(\"l\"), ord(\"l\"), ord(\"o\"), ord(\"h\"), ord(\"e\"), ord(\"l\"), ord(\"l\"), ord(\"o\")]\n",
    "hw_stream_output_lst = []\n",
    "data_size = 100\n",
    "input_buffer = allocate(shape=(data_size,), dtype=np.uint32)\n",
    "for i in range(0,20):\n",
    "    input_buffer[i] = example_lst[i]\n",
    "output_buffer = allocate(shape=(data_size,), dtype=np.uint32)\n",
    "current_time_hw_stream = time.time()\n",
    "dma_send.transfer(input_buffer)\n",
    "dma_recv.transfer(output_buffer)\n",
    "end_time_hw_stream = time.time()\n",
    "hw_stream_output = \"\"\n",
    "for i in range(5):\n",
    "    hw_stream_output_lst.append(format(output_buffer[i], '02x'))\n",
    "    hw_stream_output += format(output_buffer[i], '02x')\n",
    "    \n",
    "del input_buffer, output_buffer\n",
    "print(hw_stream_output)\n",
    "print(\"Expected output: 8f3a9cbd5cb154b72b831afc87b4d4965e78afe3\")\n",
    "print(\"Hardware stream time taken with input size of 20:\", end_time_hw_stream - current_time_hw_stream, \"seconds\")"
   ]
  },
  {
   "cell_type": "code",
   "execution_count": 16,
   "id": "2d5b944e",
   "metadata": {},
   "outputs": [
    {
     "name": "stdout",
     "output_type": "stream",
     "text": [
      "Software output: 8f3a9cbd5cb154b72b831afc87b4d4965e78afe3\n",
      "Software time taken with input size of 20: 0.005347251892089844 seconds\n"
     ]
    }
   ],
   "source": [
    "input_string = 'hellohellohellohello'\n",
    "current_time = time.time()\n",
    "print(\"Software output:\", sha1(input_string))\n",
    "end_time = time.time()\n",
    "print(\"Software time taken with input size of 20:\", end_time - current_time, \"seconds\")"
   ]
  },
  {
   "cell_type": "code",
   "execution_count": 24,
   "id": "24f584d6",
   "metadata": {},
   "outputs": [
    {
     "name": "stdout",
     "output_type": "stream",
     "text": [
      "7b617da32c5bf8ef766fed53c544fbbdf1c8b16\n",
      "Expected output: 7b617da32c5bf8ef0766fed53c544fbbdf1c8b16\n",
      "Hardware stream time taken with input size of 50: 0.0019524097442626953 seconds\n"
     ]
    }
   ],
   "source": [
    "ol = Overlay(\"sha1_50/sha1_50.bit\")\n",
    "dma = ol.axi_dma\n",
    "dma_send = ol.axi_dma.sendchannel\n",
    "dma_recv = ol.axi_dma.recvchannel\n",
    "hls_ip = ol.axi_dma\n",
    "\n",
    "CONTROL_REGISTER = 0x00\n",
    "hls_ip.write(CONTROL_REGISTER, 0x01)\n",
    "\n",
    "example_lst = [ord(\"h\"), ord(\"e\"), ord(\"l\"), ord(\"l\"), ord(\"o\"), ord(\"h\"), ord(\"e\"), ord(\"l\"), ord(\"l\"), ord(\"o\"),\n",
    "               ord(\"h\"), ord(\"e\"), ord(\"l\"), ord(\"l\"), ord(\"o\"), ord(\"h\"), ord(\"e\"), ord(\"l\"), ord(\"l\"), ord(\"o\"),\n",
    "               ord(\"h\"), ord(\"e\"), ord(\"l\"), ord(\"l\"), ord(\"o\"), ord(\"h\"), ord(\"e\"), ord(\"l\"), ord(\"l\"), ord(\"o\"),\n",
    "               ord(\"h\"), ord(\"e\"), ord(\"l\"), ord(\"l\"), ord(\"o\"), ord(\"h\"), ord(\"e\"), ord(\"l\"), ord(\"l\"), ord(\"o\"),\n",
    "               ord(\"h\"), ord(\"e\"), ord(\"l\"), ord(\"l\"), ord(\"o\"), ord(\"h\"), ord(\"e\"), ord(\"l\"), ord(\"l\"), ord(\"o\")]\n",
    "hw_stream_output_lst = []\n",
    "data_size = 200\n",
    "input_buffer = allocate(shape=(data_size,), dtype=np.uint32)\n",
    "for i in range(0,50):\n",
    "    input_buffer[i] = example_lst[i]\n",
    "output_buffer = allocate(shape=(data_size,), dtype=np.uint32)\n",
    "current_time_hw_stream = time.time()\n",
    "dma_send.transfer(input_buffer)\n",
    "dma_recv.transfer(output_buffer)\n",
    "end_time_hw_stream = time.time()\n",
    "hw_stream_output = \"\"\n",
    "for i in range(5):\n",
    "    hw_stream_output_lst.append(format(output_buffer[i], '02x'))\n",
    "    hw_stream_output += format(output_buffer[i], '02x')\n",
    "    \n",
    "del input_buffer, output_buffer\n",
    "print(hw_stream_output)\n",
    "print(\"Expected output: 7b617da32c5bf8ef0766fed53c544fbbdf1c8b16\")\n",
    "print(\"Hardware stream time taken with input size of 50:\", end_time_hw_stream - current_time_hw_stream, \"seconds\")"
   ]
  },
  {
   "cell_type": "code",
   "execution_count": 21,
   "id": "e7a82020",
   "metadata": {},
   "outputs": [
    {
     "name": "stdout",
     "output_type": "stream",
     "text": [
      "Software output: 7b617da32c5bf8ef0766fed53c544fbbdf1c8b16\n",
      "Software time taken with input size of 50: 0.005620718002319336 seconds\n"
     ]
    }
   ],
   "source": [
    "input_string = 'hellohellohellohellohellohellohellohellohellohello'\n",
    "current_time = time.time()\n",
    "print(\"Software output:\", sha1(input_string))\n",
    "end_time = time.time()\n",
    "print(\"Software time taken with input size of 50:\", end_time - current_time, \"seconds\")"
   ]
  },
  {
   "cell_type": "code",
   "execution_count": 29,
   "id": "c820af64",
   "metadata": {},
   "outputs": [
    {
     "name": "stdout",
     "output_type": "stream",
     "text": [
      "afcefbe8bac7a70a11cc9252cc8f322aac715328\n",
      "Expected output: afcefbe8bac7a70a11cc9252cc8f322aac715328\n",
      "Hardware stream time taken with input size of 100: 0.001955747604370117 seconds\n"
     ]
    }
   ],
   "source": [
    "ol = Overlay(\"sha1_100/sha1_100.bit\")\n",
    "dma = ol.axi_dma\n",
    "dma_send = ol.axi_dma.sendchannel\n",
    "dma_recv = ol.axi_dma.recvchannel\n",
    "hls_ip = ol.axi_dma\n",
    "\n",
    "CONTROL_REGISTER = 0x00\n",
    "hls_ip.write(CONTROL_REGISTER, 0x01)\n",
    "\n",
    "example_lst = [ord(\"h\"), ord(\"e\"), ord(\"l\"), ord(\"l\"), ord(\"o\"), ord(\"h\"), ord(\"e\"), ord(\"l\"), ord(\"l\"), ord(\"o\"),\n",
    "               ord(\"h\"), ord(\"e\"), ord(\"l\"), ord(\"l\"), ord(\"o\"), ord(\"h\"), ord(\"e\"), ord(\"l\"), ord(\"l\"), ord(\"o\"),\n",
    "               ord(\"h\"), ord(\"e\"), ord(\"l\"), ord(\"l\"), ord(\"o\"), ord(\"h\"), ord(\"e\"), ord(\"l\"), ord(\"l\"), ord(\"o\"),\n",
    "               ord(\"h\"), ord(\"e\"), ord(\"l\"), ord(\"l\"), ord(\"o\"), ord(\"h\"), ord(\"e\"), ord(\"l\"), ord(\"l\"), ord(\"o\"),\n",
    "               ord(\"h\"), ord(\"e\"), ord(\"l\"), ord(\"l\"), ord(\"o\"), ord(\"h\"), ord(\"e\"), ord(\"l\"), ord(\"l\"), ord(\"o\"),\n",
    "               ord(\"h\"), ord(\"e\"), ord(\"l\"), ord(\"l\"), ord(\"o\"), ord(\"h\"), ord(\"e\"), ord(\"l\"), ord(\"l\"), ord(\"o\"),\n",
    "               ord(\"h\"), ord(\"e\"), ord(\"l\"), ord(\"l\"), ord(\"o\"), ord(\"h\"), ord(\"e\"), ord(\"l\"), ord(\"l\"), ord(\"o\"),\n",
    "               ord(\"h\"), ord(\"e\"), ord(\"l\"), ord(\"l\"), ord(\"o\"), ord(\"h\"), ord(\"e\"), ord(\"l\"), ord(\"l\"), ord(\"o\"),\n",
    "               ord(\"h\"), ord(\"e\"), ord(\"l\"), ord(\"l\"), ord(\"o\"), ord(\"h\"), ord(\"e\"), ord(\"l\"), ord(\"l\"), ord(\"o\"),\n",
    "               ord(\"h\"), ord(\"e\"), ord(\"l\"), ord(\"l\"), ord(\"o\"), ord(\"h\"), ord(\"e\"), ord(\"l\"), ord(\"l\"), ord(\"o\")]\n",
    "hw_stream_output_lst = []\n",
    "data_size = 400\n",
    "input_buffer = allocate(shape=(data_size,), dtype=np.uint32)\n",
    "for i in range(0,100):\n",
    "    input_buffer[i] = example_lst[i]\n",
    "output_buffer = allocate(shape=(data_size,), dtype=np.uint32)\n",
    "current_time_hw_stream = time.time()\n",
    "dma_send.transfer(input_buffer)\n",
    "dma_recv.transfer(output_buffer)\n",
    "end_time_hw_stream = time.time()\n",
    "hw_stream_output = \"\"\n",
    "for i in range(5):\n",
    "    hw_stream_output_lst.append(format(output_buffer[i], '02x'))\n",
    "    hw_stream_output += format(output_buffer[i], '02x')\n",
    "    \n",
    "del input_buffer, output_buffer\n",
    "print(hw_stream_output)\n",
    "print(\"Expected output: afcefbe8bac7a70a11cc9252cc8f322aac715328\")\n",
    "print(\"Hardware stream time taken with input size of 100:\", end_time_hw_stream - current_time_hw_stream, \"seconds\")"
   ]
  },
  {
   "cell_type": "code",
   "execution_count": 29,
   "id": "7f62d2ed",
   "metadata": {},
   "outputs": [
    {
     "name": "stdout",
     "output_type": "stream",
     "text": [
      "Software output: afcefbe8bac7a70a11cc9252cc8f322aac715328\n",
      "Software time taken with input size of 100: 0.0058672428131103516 seconds\n"
     ]
    }
   ],
   "source": [
    "input_string = 'hellohellohellohellohellohellohellohellohellohellohellohellohellohellohellohellohellohellohellohello'\n",
    "current_time = time.time()\n",
    "print(\"Software output:\", sha1(input_string))\n",
    "end_time = time.time()\n",
    "print(\"Software time taken with input size of 100:\", end_time - current_time, \"seconds\")"
   ]
  },
  {
   "cell_type": "code",
   "execution_count": null,
   "id": "a9bccbf9",
   "metadata": {},
   "outputs": [],
   "source": []
  },
  {
   "cell_type": "code",
   "execution_count": null,
   "id": "6d137086",
   "metadata": {},
   "outputs": [],
   "source": []
  }
 ],
 "metadata": {
  "kernelspec": {
   "display_name": "Python 3 (ipykernel)",
   "language": "python",
   "name": "python3"
  },
  "language_info": {
   "codemirror_mode": {
    "name": "ipython",
    "version": 3
   },
   "file_extension": ".py",
   "mimetype": "text/x-python",
   "name": "python",
   "nbconvert_exporter": "python",
   "pygments_lexer": "ipython3",
   "version": "3.10.4"
  }
 },
 "nbformat": 4,
 "nbformat_minor": 5
}
